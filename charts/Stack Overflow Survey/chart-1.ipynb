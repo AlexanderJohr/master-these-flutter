{
 "metadata": {
  "language_info": {
   "codemirror_mode": {
    "name": "ipython",
    "version": 3
   },
   "file_extension": ".py",
   "mimetype": "text/x-python",
   "name": "python",
   "nbconvert_exporter": "python",
   "pygments_lexer": "ipython3",
   "version": "3.9.0"
  },
  "orig_nbformat": 2,
  "kernelspec": {
   "name": "python390jvsc74a57bd090f220754895bd06dfaf8c7a03631bd9c28ff5992e342dc27798eb4eaf1d15d0",
   "display_name": "Python 3.9.0 64-bit"
  },
  "metadata": {
   "interpreter": {
    "hash": "90f220754895bd06dfaf8c7a03631bd9c28ff5992e342dc27798eb4eaf1d15d0"
   }
  }
 },
 "nbformat": 4,
 "nbformat_minor": 2,
 "cells": [
  {
   "cell_type": "code",
   "execution_count": 141,
   "metadata": {},
   "outputs": [],
   "source": [
    "import pandas as pd\n",
    "import plotly.express as px\n",
    "import os\n",
    "import io\n",
    "import zipfile\n",
    "from IPython.display import display, Markdown"
   ]
  },
  {
   "cell_type": "code",
   "execution_count": 152,
   "metadata": {},
   "outputs": [],
   "source": [
    "def readUsedAndWantedTechnologies(year, zipFile, csvPath, usedTechColIndices, wantedTechColIndices):\n",
    "    zipFile = os.path.normpath(zipFile)\n",
    "\n",
    "    with  zipfile.ZipFile(zipFile, 'r') as extractedZip:\n",
    "        with extractedZip.open(csvPath) as extractedCsv:\n",
    "            df = pd.read_csv(extractedCsv)\n",
    "    \n",
    "            df.iloc[:,usedTechColIndices] = df.iloc[:,usedTechColIndices].astype(str)\n",
    "            df.iloc[:,wantedTechColIndices] = df.iloc[:,wantedTechColIndices].astype(str)\n",
    "   \n",
    "            used, wanted = df.iloc[:,usedTechColIndices],df.iloc[:,wantedTechColIndices]#.apply(lambda x: ','.join([y for y in x if y]), axis=0),1\n",
    "\n",
    "\n",
    "\n",
    "            used = used.apply(lambda x: ';'.join([y for y in x if y != 'nan']) , axis=1)\n",
    "            wanted = wanted.apply(lambda x: ';'.join([y for y in x if y != 'nan']) , axis=1)\n",
    "\n",
    "            d = {'Jahr': [year]\n",
    "                , 'PhoneGap (Verwendet)': [used.where(used.str.contains('PhoneGap')).count() / used.count()]\n",
    "                , 'PhoneGap (Gewünscht)': [wanted.where(wanted.str.contains('PhoneGap')).count() / wanted.count()]\n",
    "\n",
    "                , 'Cordova (Verwendet)': [used.where(used.str.contains('Cordova')).count() / used.count()]\n",
    "                , 'Cordova (Gewünscht)': [wanted.where(wanted.str.contains('Cordova')).count() / wanted.count()]\n",
    "\n",
    "                , 'Xamarin (Verwendet)': [used.where(used.str.contains('Xamarin')).count() / used.count()]\n",
    "                , 'Xamarin (Gewünscht)': [wanted.where(wanted.str.contains('Xamarin')).count() / wanted.count()]\n",
    "\n",
    "                # Kann nicht mit einbezogen werden, da React auch ein Web Framework ist und erst seit 2019 React Native gesondert in der Umfrage auftaucht\n",
    "                #, 'React (Verwendet)': [used.where(used.str.contains('React')).count() / used.count()]\n",
    "                #, 'React (Gewünscht)': [wanted.where(wanted.str.contains('React')).count() / wanted.count()]\n",
    "\n",
    "\n",
    "                , 'React Native (Verwendet)': [used.where(used.str.contains('React Native')).count() / used.count()]\n",
    "                , 'React Native (Gewünscht)': [wanted.where(wanted.str.contains('React Native')).count() / wanted.count()]\n",
    "\n",
    "                , 'Flutter (Verwendet)': [used.where(used.str.contains('Flutter')).count() / used.count()]\n",
    "                , 'Flutter (Gewünscht)': [wanted.where(wanted.str.contains('Flutter')).count() / wanted.count()]\n",
    "\n",
    "                #, 'NativeScript (Verwendet)': [used.where(used.str.contains('NativeScript')).count() / used.count()]\n",
    "                #, 'NativeScript (Gewünscht)': [wanted.where(wanted.str.contains('NativeScript')).count() / wanted.count()]\n",
    "\n",
    "                # Zu wenige Daten\n",
    "                #, 'Sencha (Verwendet)': [used.where(used.str.contains('Sencha')).count() / used.count()]\n",
    "                #, 'Sencha (Gewünscht)': [wanted.where(wanted.str.contains('Sencha')).count() / wanted.count()]\n",
    "                \n",
    "                # Zu wenige Daten\n",
    "                #, 'Appcelerator (Verwendet)': [used.where(used.str.contains('Appcelerator')).count() / used.count()]\n",
    "                #, 'Appcelerator (Gewünscht)': [wanted.where(wanted.str.contains('Appcelerator')).count() / wanted.count()]\n",
    "                \n",
    "                #, 'Corona (Verwendet)': [used.where(used.str.contains('Corona')).count() / used.count()]\n",
    "                #, 'Corona (Gewünscht)': [wanted.where(wanted.str.contains('Corona')).count() / wanted.count()]\n",
    "\n",
    "                }\n",
    "\n",
    "            usedAndWanted = pd.DataFrame(data=d)\n",
    "\n",
    "    return usedAndWanted"
   ]
  },
  {
   "cell_type": "code",
   "execution_count": 153,
   "metadata": {},
   "outputs": [
    {
     "output_type": "stream",
     "name": "stderr",
     "text": [
      "C:\\Users\\Johr\\AppData\\Roaming\\Python\\Python39\\site-packages\\IPython\\core\\interactiveshell.py:3357: DtypeWarning:\n",
      "\n",
      "Columns (46,48,62) have mixed types.Specify dtype option on import or set low_memory=False.\n",
      "\n",
      "C:\\Users\\Johr\\AppData\\Roaming\\Python\\Python39\\site-packages\\IPython\\core\\interactiveshell.py:3357: DtypeWarning:\n",
      "\n",
      "Columns (5,108,121,196,197,198) have mixed types.Specify dtype option on import or set low_memory=False.\n",
      "\n",
      "C:\\Users\\Johr\\AppData\\Roaming\\Python\\Python39\\site-packages\\IPython\\core\\interactiveshell.py:3357: DtypeWarning:\n",
      "\n",
      "Columns (8,12,13,14,15,16,50,51,52,53,55,56,57,58,59,60,61,62,63,64,65,66,67,68,69,70,71,72,73,74,75,76,77,78,79,80,81,82,83,84,85,93,94,95,96,97,98,99,100,101,102,103,104,105,106,107,108,109,110,111,112,113,114,115,116,117,118,119,120,121,122,123,124,125,126,127,128) have mixed types.Specify dtype option on import or set low_memory=False.\n",
      "\n"
     ]
    },
    {
     "output_type": "display_data",
     "data": {
      "text/plain": "   Jahr  PhoneGap (Verwendet)  PhoneGap (Gewünscht)  Cordova (Verwendet)  \\\n0  2013              0.000411              0.107051             0.000000   \n0  2014              0.000000              0.000000             0.000131   \n0  2015              0.000038              0.000115             0.024112   \n0  2016              0.000000              0.000000             0.029466   \n0  2017              0.000000              0.000000             0.043431   \n0  2018              0.000000              0.000000             0.044196   \n0  2019              0.000000              0.000000             0.046657   \n0  2020              0.000000              0.000000             0.037527   \n\n   Cordova (Gewünscht)  Xamarin (Verwendet)  Xamarin (Gewünscht)  \\\n0             0.000000             0.000000             0.000000   \n0             0.042909             0.000000             0.000000   \n0             0.023575             0.000383             0.000728   \n0             0.026736             0.000000             0.000000   \n0             0.042108             0.032593             0.073922   \n0             0.037348             0.038400             0.064842   \n0             0.033538             0.042865             0.067516   \n0             0.023797             0.036565             0.055739   \n\n   React Native (Verwendet)  React Native (Gewünscht)  Flutter (Verwendet)  \\\n0                  0.000000                  0.000000             0.000000   \n0                  0.000000                  0.000000             0.000000   \n0                  0.000000                  0.000115             0.000000   \n0                  0.000000                  0.000000             0.000000   \n0                  0.000000                  0.000000             0.000000   \n0                  0.000000                  0.000000             0.000000   \n0                  0.069001                  0.164272             0.022614   \n0                  0.071764                  0.157847             0.044942   \n\n   Flutter (Gewünscht)  \n0             0.000000  \n0             0.000000  \n0             0.000000  \n0             0.000000  \n0             0.000000  \n0             0.000000  \n0             0.082209  \n0             0.122260  ",
      "text/html": "<div>\n<style scoped>\n    .dataframe tbody tr th:only-of-type {\n        vertical-align: middle;\n    }\n\n    .dataframe tbody tr th {\n        vertical-align: top;\n    }\n\n    .dataframe thead th {\n        text-align: right;\n    }\n</style>\n<table border=\"1\" class=\"dataframe\">\n  <thead>\n    <tr style=\"text-align: right;\">\n      <th></th>\n      <th>Jahr</th>\n      <th>PhoneGap (Verwendet)</th>\n      <th>PhoneGap (Gewünscht)</th>\n      <th>Cordova (Verwendet)</th>\n      <th>Cordova (Gewünscht)</th>\n      <th>Xamarin (Verwendet)</th>\n      <th>Xamarin (Gewünscht)</th>\n      <th>React Native (Verwendet)</th>\n      <th>React Native (Gewünscht)</th>\n      <th>Flutter (Verwendet)</th>\n      <th>Flutter (Gewünscht)</th>\n    </tr>\n  </thead>\n  <tbody>\n    <tr>\n      <th>0</th>\n      <td>2013</td>\n      <td>0.000411</td>\n      <td>0.107051</td>\n      <td>0.000000</td>\n      <td>0.000000</td>\n      <td>0.000000</td>\n      <td>0.000000</td>\n      <td>0.000000</td>\n      <td>0.000000</td>\n      <td>0.000000</td>\n      <td>0.000000</td>\n    </tr>\n    <tr>\n      <th>0</th>\n      <td>2014</td>\n      <td>0.000000</td>\n      <td>0.000000</td>\n      <td>0.000131</td>\n      <td>0.042909</td>\n      <td>0.000000</td>\n      <td>0.000000</td>\n      <td>0.000000</td>\n      <td>0.000000</td>\n      <td>0.000000</td>\n      <td>0.000000</td>\n    </tr>\n    <tr>\n      <th>0</th>\n      <td>2015</td>\n      <td>0.000038</td>\n      <td>0.000115</td>\n      <td>0.024112</td>\n      <td>0.023575</td>\n      <td>0.000383</td>\n      <td>0.000728</td>\n      <td>0.000000</td>\n      <td>0.000115</td>\n      <td>0.000000</td>\n      <td>0.000000</td>\n    </tr>\n    <tr>\n      <th>0</th>\n      <td>2016</td>\n      <td>0.000000</td>\n      <td>0.000000</td>\n      <td>0.029466</td>\n      <td>0.026736</td>\n      <td>0.000000</td>\n      <td>0.000000</td>\n      <td>0.000000</td>\n      <td>0.000000</td>\n      <td>0.000000</td>\n      <td>0.000000</td>\n    </tr>\n    <tr>\n      <th>0</th>\n      <td>2017</td>\n      <td>0.000000</td>\n      <td>0.000000</td>\n      <td>0.043431</td>\n      <td>0.042108</td>\n      <td>0.032593</td>\n      <td>0.073922</td>\n      <td>0.000000</td>\n      <td>0.000000</td>\n      <td>0.000000</td>\n      <td>0.000000</td>\n    </tr>\n    <tr>\n      <th>0</th>\n      <td>2018</td>\n      <td>0.000000</td>\n      <td>0.000000</td>\n      <td>0.044196</td>\n      <td>0.037348</td>\n      <td>0.038400</td>\n      <td>0.064842</td>\n      <td>0.000000</td>\n      <td>0.000000</td>\n      <td>0.000000</td>\n      <td>0.000000</td>\n    </tr>\n    <tr>\n      <th>0</th>\n      <td>2019</td>\n      <td>0.000000</td>\n      <td>0.000000</td>\n      <td>0.046657</td>\n      <td>0.033538</td>\n      <td>0.042865</td>\n      <td>0.067516</td>\n      <td>0.069001</td>\n      <td>0.164272</td>\n      <td>0.022614</td>\n      <td>0.082209</td>\n    </tr>\n    <tr>\n      <th>0</th>\n      <td>2020</td>\n      <td>0.000000</td>\n      <td>0.000000</td>\n      <td>0.037527</td>\n      <td>0.023797</td>\n      <td>0.036565</td>\n      <td>0.055739</td>\n      <td>0.071764</td>\n      <td>0.157847</td>\n      <td>0.044942</td>\n      <td>0.122260</td>\n    </tr>\n  </tbody>\n</table>\n</div>"
     },
     "metadata": {}
    }
   ],
   "source": [
    "df = readUsedAndWantedTechnologies(year=2013, zipFile=\"data/2013 Stack Overflow Survey Responses.zip\", csvPath=\"2013 Stack Overflow Survey Responses.csv\", usedTechColIndices=slice(56,70), wantedTechColIndices=slice(70,81))\n",
    "\n",
    "df = df.append(readUsedAndWantedTechnologies(year=2014, zipFile=\"data/2014 Stack Overflow Survey Responses.zip\", csvPath=\"2014 Stack Overflow Survey Responses.csv\", usedTechColIndices=slice(42,54), wantedTechColIndices=slice(54,67)))\n",
    "\n",
    "df = df.append(readUsedAndWantedTechnologies(year=2015, zipFile=\"data/2015 Stack Overflow Developer Survey Responses.zip\", csvPath=\"2015 Stack Overflow Developer Survey Responses.csv\", usedTechColIndices=slice(8,51), wantedTechColIndices=slice(51,94)))\n",
    "\n",
    "df = df.append(readUsedAndWantedTechnologies(year=2016, zipFile=\"data/2016 Stack Overflow Survey Results.zip\", csvPath=\"2016 Stack Overflow Survey Results/2016 Stack Overflow Survey Responses.csv\", usedTechColIndices=slice(16,17), wantedTechColIndices=slice(17,18)))\n",
    "\n",
    "df = df.append(readUsedAndWantedTechnologies(year=2017, zipFile=\"data/developer_survey_2017.zip\", csvPath=\"survey_results_public.csv\", usedTechColIndices=slice(90,91), wantedTechColIndices=slice(91,92)))\n",
    "\n",
    "df = df.append(readUsedAndWantedTechnologies(year=2018, zipFile=\"data/developer_survey_2018.zip\", csvPath=\"survey_results_public.csv\", usedTechColIndices=slice(71,72), wantedTechColIndices=slice(72,73)))\n",
    "\n",
    "df = df.append(readUsedAndWantedTechnologies(year=2019, zipFile=\"data/developer_survey_2019.zip\", csvPath=\"survey_results_public.csv\", usedTechColIndices=slice(51,52), wantedTechColIndices=slice(52,53)))\n",
    "\n",
    "df = df.append(readUsedAndWantedTechnologies(year=2020, zipFile=\"data/developer_survey_2020.zip\", csvPath=\"survey_results_public.csv\", usedTechColIndices=slice(24,25), wantedTechColIndices=slice(23,24)))\n",
    "\n",
    "display(df)\n"
   ]
  },
  {
   "cell_type": "code",
   "execution_count": 155,
   "metadata": {},
   "outputs": [
    {
     "output_type": "display_data",
     "data": {
      "application/vnd.plotly.v1+json": {
       "config": {
        "plotlyServerURL": "https://plot.ly"
       },
       "data": [
        {
         "hovertemplate": "=PhoneGap (Verwendet)<br>Jahr=%{x}<br>genutzt / gewünscht in %=%{y}<extra></extra>",
         "legendgroup": "PhoneGap (Verwendet)",
         "line": {
          "color": "#636efa",
          "dash": "solid"
         },
         "mode": "lines",
         "name": "PhoneGap (Verwendet)",
         "orientation": "v",
         "showlegend": true,
         "type": "scatter",
         "x": [
          2013,
          2014,
          2015,
          2016,
          2017,
          2018,
          2019,
          2020
         ],
         "xaxis": "x",
         "y": [
          0.0004105511649389305,
          0,
          0.00003833326944455093,
          0,
          0,
          0,
          0,
          0
         ],
         "yaxis": "y"
        },
        {
         "hovertemplate": "=PhoneGap (Gewünscht)<br>Jahr=%{x}<br>genutzt / gewünscht in %=%{y}<extra></extra>",
         "legendgroup": "PhoneGap (Gewünscht)",
         "line": {
          "color": "#EF553B",
          "dash": "solid"
         },
         "mode": "lines",
         "name": "PhoneGap (Gewünscht)",
         "orientation": "v",
         "showlegend": true,
         "type": "scatter",
         "x": [
          2013,
          2014,
          2015,
          2016,
          2017,
          2018,
          2019,
          2020
         ],
         "xaxis": "x",
         "y": [
          0.10705121625782613,
          0,
          0.00011499980833365278,
          0,
          0,
          0,
          0,
          0
         ],
         "yaxis": "y"
        },
        {
         "hovertemplate": "=Cordova (Verwendet)<br>Jahr=%{x}<br>genutzt / gewünscht in %=%{y}<extra></extra>",
         "legendgroup": "Cordova (Verwendet)",
         "line": {
          "color": "#00cc96",
          "dash": "solid"
         },
         "mode": "lines",
         "name": "Cordova (Verwendet)",
         "orientation": "v",
         "showlegend": true,
         "type": "scatter",
         "x": [
          2013,
          2014,
          2015,
          2016,
          2017,
          2018,
          2019,
          2020
         ],
         "xaxis": "x",
         "y": [
          0,
          0.00013082155939298797,
          0.024111626480622532,
          0.029466357308584688,
          0.04343088418430884,
          0.04419604471195185,
          0.04665684101571729,
          0.03752656645103241
         ],
         "yaxis": "y"
        },
        {
         "hovertemplate": "=Cordova (Gewünscht)<br>Jahr=%{x}<br>genutzt / gewünscht in %=%{y}<extra></extra>",
         "legendgroup": "Cordova (Gewünscht)",
         "line": {
          "color": "#ab63fa",
          "dash": "solid"
         },
         "mode": "lines",
         "name": "Cordova (Gewünscht)",
         "orientation": "v",
         "showlegend": true,
         "type": "scatter",
         "x": [
          2013,
          2014,
          2015,
          2016,
          2017,
          2018,
          2019,
          2020
         ],
         "xaxis": "x",
         "y": [
          0,
          0.042909471480900054,
          0.023574960708398818,
          0.02673567731572372,
          0.04210772104607721,
          0.037347630367710286,
          0.03353847192376495,
          0.023797334822605917
         ],
         "yaxis": "y"
        },
        {
         "hovertemplate": "=Xamarin (Verwendet)<br>Jahr=%{x}<br>genutzt / gewünscht in %=%{y}<extra></extra>",
         "legendgroup": "Xamarin (Verwendet)",
         "line": {
          "color": "#FFA15A",
          "dash": "solid"
         },
         "mode": "lines",
         "name": "Xamarin (Verwendet)",
         "orientation": "v",
         "showlegend": true,
         "type": "scatter",
         "x": [
          2013,
          2014,
          2015,
          2016,
          2017,
          2018,
          2019,
          2020
         ],
         "xaxis": "x",
         "y": [
          0,
          0,
          0.00038333269444550924,
          0,
          0.03259262141967621,
          0.03839967629356127,
          0.04286533982876366,
          0.03656474457423869
         ],
         "yaxis": "y"
        },
        {
         "hovertemplate": "=Xamarin (Gewünscht)<br>Jahr=%{x}<br>genutzt / gewünscht in %=%{y}<extra></extra>",
         "legendgroup": "Xamarin (Gewünscht)",
         "line": {
          "color": "#19d3f3",
          "dash": "solid"
         },
         "mode": "lines",
         "name": "Xamarin (Gewünscht)",
         "orientation": "v",
         "showlegend": true,
         "type": "scatter",
         "x": [
          2013,
          2014,
          2015,
          2016,
          2017,
          2018,
          2019,
          2020
         ],
         "xaxis": "x",
         "y": [
          0,
          0,
          0.0007283321194464676,
          0,
          0.07392201120797011,
          0.0648424460067776,
          0.06751572291664323,
          0.05573912908580382
         ],
         "yaxis": "y"
        },
        {
         "hovertemplate": "=React Native (Verwendet)<br>Jahr=%{x}<br>genutzt / gewünscht in %=%{y}<extra></extra>",
         "legendgroup": "React Native (Verwendet)",
         "line": {
          "color": "#FF6692",
          "dash": "solid"
         },
         "mode": "lines",
         "name": "React Native (Verwendet)",
         "orientation": "v",
         "showlegend": true,
         "type": "scatter",
         "x": [
          2013,
          2014,
          2015,
          2016,
          2017,
          2018,
          2019,
          2020
         ],
         "xaxis": "x",
         "y": [
          0,
          0,
          0,
          0,
          0,
          0,
          0.06900082130441142,
          0.07176432261367338
         ],
         "yaxis": "y"
        },
        {
         "hovertemplate": "=React Native (Gewünscht)<br>Jahr=%{x}<br>genutzt / gewünscht in %=%{y}<extra></extra>",
         "legendgroup": "React Native (Gewünscht)",
         "line": {
          "color": "#B6E880",
          "dash": "solid"
         },
         "mode": "lines",
         "name": "React Native (Gewünscht)",
         "orientation": "v",
         "showlegend": true,
         "type": "scatter",
         "x": [
          2013,
          2014,
          2015,
          2016,
          2017,
          2018,
          2019,
          2020
         ],
         "xaxis": "x",
         "y": [
          0,
          0,
          0.00011499980833365278,
          0,
          0,
          0,
          0.16427213302881316,
          0.15784738058671136
         ],
         "yaxis": "y"
        },
        {
         "hovertemplate": "=Flutter (Verwendet)<br>Jahr=%{x}<br>genutzt / gewünscht in %=%{y}<extra></extra>",
         "legendgroup": "Flutter (Verwendet)",
         "line": {
          "color": "#FF97FF",
          "dash": "solid"
         },
         "mode": "lines",
         "name": "Flutter (Verwendet)",
         "orientation": "v",
         "showlegend": true,
         "type": "scatter",
         "x": [
          2013,
          2014,
          2015,
          2016,
          2017,
          2018,
          2019,
          2020
         ],
         "xaxis": "x",
         "y": [
          0,
          0,
          0,
          0,
          0,
          0,
          0.02261399817737925,
          0.044941902855990444
         ],
         "yaxis": "y"
        },
        {
         "hovertemplate": "=Flutter (Gewünscht)<br>Jahr=%{x}<br>genutzt / gewünscht in %=%{y}<extra></extra>",
         "legendgroup": "Flutter (Gewünscht)",
         "line": {
          "color": "#FECB52",
          "dash": "solid"
         },
         "mode": "lines",
         "name": "Flutter (Gewünscht)",
         "orientation": "v",
         "showlegend": true,
         "type": "scatter",
         "x": [
          2013,
          2014,
          2015,
          2016,
          2017,
          2018,
          2019,
          2020
         ],
         "xaxis": "x",
         "y": [
          0,
          0,
          0,
          0,
          0,
          0,
          0.0822091963592588,
          0.12225997114534369
         ],
         "yaxis": "y"
        }
       ],
       "layout": {
        "legend": {
         "title": {
          "text": ""
         },
         "tracegroupgap": 0
        },
        "template": {
         "data": {
          "bar": [
           {
            "error_x": {
             "color": "#2a3f5f"
            },
            "error_y": {
             "color": "#2a3f5f"
            },
            "marker": {
             "line": {
              "color": "#E5ECF6",
              "width": 0.5
             }
            },
            "type": "bar"
           }
          ],
          "barpolar": [
           {
            "marker": {
             "line": {
              "color": "#E5ECF6",
              "width": 0.5
             }
            },
            "type": "barpolar"
           }
          ],
          "carpet": [
           {
            "aaxis": {
             "endlinecolor": "#2a3f5f",
             "gridcolor": "white",
             "linecolor": "white",
             "minorgridcolor": "white",
             "startlinecolor": "#2a3f5f"
            },
            "baxis": {
             "endlinecolor": "#2a3f5f",
             "gridcolor": "white",
             "linecolor": "white",
             "minorgridcolor": "white",
             "startlinecolor": "#2a3f5f"
            },
            "type": "carpet"
           }
          ],
          "choropleth": [
           {
            "colorbar": {
             "outlinewidth": 0,
             "ticks": ""
            },
            "type": "choropleth"
           }
          ],
          "contour": [
           {
            "colorbar": {
             "outlinewidth": 0,
             "ticks": ""
            },
            "colorscale": [
             [
              0,
              "#0d0887"
             ],
             [
              0.1111111111111111,
              "#46039f"
             ],
             [
              0.2222222222222222,
              "#7201a8"
             ],
             [
              0.3333333333333333,
              "#9c179e"
             ],
             [
              0.4444444444444444,
              "#bd3786"
             ],
             [
              0.5555555555555556,
              "#d8576b"
             ],
             [
              0.6666666666666666,
              "#ed7953"
             ],
             [
              0.7777777777777778,
              "#fb9f3a"
             ],
             [
              0.8888888888888888,
              "#fdca26"
             ],
             [
              1,
              "#f0f921"
             ]
            ],
            "type": "contour"
           }
          ],
          "contourcarpet": [
           {
            "colorbar": {
             "outlinewidth": 0,
             "ticks": ""
            },
            "type": "contourcarpet"
           }
          ],
          "heatmap": [
           {
            "colorbar": {
             "outlinewidth": 0,
             "ticks": ""
            },
            "colorscale": [
             [
              0,
              "#0d0887"
             ],
             [
              0.1111111111111111,
              "#46039f"
             ],
             [
              0.2222222222222222,
              "#7201a8"
             ],
             [
              0.3333333333333333,
              "#9c179e"
             ],
             [
              0.4444444444444444,
              "#bd3786"
             ],
             [
              0.5555555555555556,
              "#d8576b"
             ],
             [
              0.6666666666666666,
              "#ed7953"
             ],
             [
              0.7777777777777778,
              "#fb9f3a"
             ],
             [
              0.8888888888888888,
              "#fdca26"
             ],
             [
              1,
              "#f0f921"
             ]
            ],
            "type": "heatmap"
           }
          ],
          "heatmapgl": [
           {
            "colorbar": {
             "outlinewidth": 0,
             "ticks": ""
            },
            "colorscale": [
             [
              0,
              "#0d0887"
             ],
             [
              0.1111111111111111,
              "#46039f"
             ],
             [
              0.2222222222222222,
              "#7201a8"
             ],
             [
              0.3333333333333333,
              "#9c179e"
             ],
             [
              0.4444444444444444,
              "#bd3786"
             ],
             [
              0.5555555555555556,
              "#d8576b"
             ],
             [
              0.6666666666666666,
              "#ed7953"
             ],
             [
              0.7777777777777778,
              "#fb9f3a"
             ],
             [
              0.8888888888888888,
              "#fdca26"
             ],
             [
              1,
              "#f0f921"
             ]
            ],
            "type": "heatmapgl"
           }
          ],
          "histogram": [
           {
            "marker": {
             "colorbar": {
              "outlinewidth": 0,
              "ticks": ""
             }
            },
            "type": "histogram"
           }
          ],
          "histogram2d": [
           {
            "colorbar": {
             "outlinewidth": 0,
             "ticks": ""
            },
            "colorscale": [
             [
              0,
              "#0d0887"
             ],
             [
              0.1111111111111111,
              "#46039f"
             ],
             [
              0.2222222222222222,
              "#7201a8"
             ],
             [
              0.3333333333333333,
              "#9c179e"
             ],
             [
              0.4444444444444444,
              "#bd3786"
             ],
             [
              0.5555555555555556,
              "#d8576b"
             ],
             [
              0.6666666666666666,
              "#ed7953"
             ],
             [
              0.7777777777777778,
              "#fb9f3a"
             ],
             [
              0.8888888888888888,
              "#fdca26"
             ],
             [
              1,
              "#f0f921"
             ]
            ],
            "type": "histogram2d"
           }
          ],
          "histogram2dcontour": [
           {
            "colorbar": {
             "outlinewidth": 0,
             "ticks": ""
            },
            "colorscale": [
             [
              0,
              "#0d0887"
             ],
             [
              0.1111111111111111,
              "#46039f"
             ],
             [
              0.2222222222222222,
              "#7201a8"
             ],
             [
              0.3333333333333333,
              "#9c179e"
             ],
             [
              0.4444444444444444,
              "#bd3786"
             ],
             [
              0.5555555555555556,
              "#d8576b"
             ],
             [
              0.6666666666666666,
              "#ed7953"
             ],
             [
              0.7777777777777778,
              "#fb9f3a"
             ],
             [
              0.8888888888888888,
              "#fdca26"
             ],
             [
              1,
              "#f0f921"
             ]
            ],
            "type": "histogram2dcontour"
           }
          ],
          "mesh3d": [
           {
            "colorbar": {
             "outlinewidth": 0,
             "ticks": ""
            },
            "type": "mesh3d"
           }
          ],
          "parcoords": [
           {
            "line": {
             "colorbar": {
              "outlinewidth": 0,
              "ticks": ""
             }
            },
            "type": "parcoords"
           }
          ],
          "pie": [
           {
            "automargin": true,
            "type": "pie"
           }
          ],
          "scatter": [
           {
            "marker": {
             "colorbar": {
              "outlinewidth": 0,
              "ticks": ""
             }
            },
            "type": "scatter"
           }
          ],
          "scatter3d": [
           {
            "line": {
             "colorbar": {
              "outlinewidth": 0,
              "ticks": ""
             }
            },
            "marker": {
             "colorbar": {
              "outlinewidth": 0,
              "ticks": ""
             }
            },
            "type": "scatter3d"
           }
          ],
          "scattercarpet": [
           {
            "marker": {
             "colorbar": {
              "outlinewidth": 0,
              "ticks": ""
             }
            },
            "type": "scattercarpet"
           }
          ],
          "scattergeo": [
           {
            "marker": {
             "colorbar": {
              "outlinewidth": 0,
              "ticks": ""
             }
            },
            "type": "scattergeo"
           }
          ],
          "scattergl": [
           {
            "marker": {
             "colorbar": {
              "outlinewidth": 0,
              "ticks": ""
             }
            },
            "type": "scattergl"
           }
          ],
          "scattermapbox": [
           {
            "marker": {
             "colorbar": {
              "outlinewidth": 0,
              "ticks": ""
             }
            },
            "type": "scattermapbox"
           }
          ],
          "scatterpolar": [
           {
            "marker": {
             "colorbar": {
              "outlinewidth": 0,
              "ticks": ""
             }
            },
            "type": "scatterpolar"
           }
          ],
          "scatterpolargl": [
           {
            "marker": {
             "colorbar": {
              "outlinewidth": 0,
              "ticks": ""
             }
            },
            "type": "scatterpolargl"
           }
          ],
          "scatterternary": [
           {
            "marker": {
             "colorbar": {
              "outlinewidth": 0,
              "ticks": ""
             }
            },
            "type": "scatterternary"
           }
          ],
          "surface": [
           {
            "colorbar": {
             "outlinewidth": 0,
             "ticks": ""
            },
            "colorscale": [
             [
              0,
              "#0d0887"
             ],
             [
              0.1111111111111111,
              "#46039f"
             ],
             [
              0.2222222222222222,
              "#7201a8"
             ],
             [
              0.3333333333333333,
              "#9c179e"
             ],
             [
              0.4444444444444444,
              "#bd3786"
             ],
             [
              0.5555555555555556,
              "#d8576b"
             ],
             [
              0.6666666666666666,
              "#ed7953"
             ],
             [
              0.7777777777777778,
              "#fb9f3a"
             ],
             [
              0.8888888888888888,
              "#fdca26"
             ],
             [
              1,
              "#f0f921"
             ]
            ],
            "type": "surface"
           }
          ],
          "table": [
           {
            "cells": {
             "fill": {
              "color": "#EBF0F8"
             },
             "line": {
              "color": "white"
             }
            },
            "header": {
             "fill": {
              "color": "#C8D4E3"
             },
             "line": {
              "color": "white"
             }
            },
            "type": "table"
           }
          ]
         },
         "layout": {
          "annotationdefaults": {
           "arrowcolor": "#2a3f5f",
           "arrowhead": 0,
           "arrowwidth": 1
          },
          "autotypenumbers": "strict",
          "coloraxis": {
           "colorbar": {
            "outlinewidth": 0,
            "ticks": ""
           }
          },
          "colorscale": {
           "diverging": [
            [
             0,
             "#8e0152"
            ],
            [
             0.1,
             "#c51b7d"
            ],
            [
             0.2,
             "#de77ae"
            ],
            [
             0.3,
             "#f1b6da"
            ],
            [
             0.4,
             "#fde0ef"
            ],
            [
             0.5,
             "#f7f7f7"
            ],
            [
             0.6,
             "#e6f5d0"
            ],
            [
             0.7,
             "#b8e186"
            ],
            [
             0.8,
             "#7fbc41"
            ],
            [
             0.9,
             "#4d9221"
            ],
            [
             1,
             "#276419"
            ]
           ],
           "sequential": [
            [
             0,
             "#0d0887"
            ],
            [
             0.1111111111111111,
             "#46039f"
            ],
            [
             0.2222222222222222,
             "#7201a8"
            ],
            [
             0.3333333333333333,
             "#9c179e"
            ],
            [
             0.4444444444444444,
             "#bd3786"
            ],
            [
             0.5555555555555556,
             "#d8576b"
            ],
            [
             0.6666666666666666,
             "#ed7953"
            ],
            [
             0.7777777777777778,
             "#fb9f3a"
            ],
            [
             0.8888888888888888,
             "#fdca26"
            ],
            [
             1,
             "#f0f921"
            ]
           ],
           "sequentialminus": [
            [
             0,
             "#0d0887"
            ],
            [
             0.1111111111111111,
             "#46039f"
            ],
            [
             0.2222222222222222,
             "#7201a8"
            ],
            [
             0.3333333333333333,
             "#9c179e"
            ],
            [
             0.4444444444444444,
             "#bd3786"
            ],
            [
             0.5555555555555556,
             "#d8576b"
            ],
            [
             0.6666666666666666,
             "#ed7953"
            ],
            [
             0.7777777777777778,
             "#fb9f3a"
            ],
            [
             0.8888888888888888,
             "#fdca26"
            ],
            [
             1,
             "#f0f921"
            ]
           ]
          },
          "colorway": [
           "#636efa",
           "#EF553B",
           "#00cc96",
           "#ab63fa",
           "#FFA15A",
           "#19d3f3",
           "#FF6692",
           "#B6E880",
           "#FF97FF",
           "#FECB52"
          ],
          "font": {
           "color": "#2a3f5f"
          },
          "geo": {
           "bgcolor": "white",
           "lakecolor": "white",
           "landcolor": "#E5ECF6",
           "showlakes": true,
           "showland": true,
           "subunitcolor": "white"
          },
          "hoverlabel": {
           "align": "left"
          },
          "hovermode": "closest",
          "mapbox": {
           "style": "light"
          },
          "paper_bgcolor": "white",
          "plot_bgcolor": "#E5ECF6",
          "polar": {
           "angularaxis": {
            "gridcolor": "white",
            "linecolor": "white",
            "ticks": ""
           },
           "bgcolor": "#E5ECF6",
           "radialaxis": {
            "gridcolor": "white",
            "linecolor": "white",
            "ticks": ""
           }
          },
          "scene": {
           "xaxis": {
            "backgroundcolor": "#E5ECF6",
            "gridcolor": "white",
            "gridwidth": 2,
            "linecolor": "white",
            "showbackground": true,
            "ticks": "",
            "zerolinecolor": "white"
           },
           "yaxis": {
            "backgroundcolor": "#E5ECF6",
            "gridcolor": "white",
            "gridwidth": 2,
            "linecolor": "white",
            "showbackground": true,
            "ticks": "",
            "zerolinecolor": "white"
           },
           "zaxis": {
            "backgroundcolor": "#E5ECF6",
            "gridcolor": "white",
            "gridwidth": 2,
            "linecolor": "white",
            "showbackground": true,
            "ticks": "",
            "zerolinecolor": "white"
           }
          },
          "shapedefaults": {
           "line": {
            "color": "#2a3f5f"
           }
          },
          "ternary": {
           "aaxis": {
            "gridcolor": "white",
            "linecolor": "white",
            "ticks": ""
           },
           "baxis": {
            "gridcolor": "white",
            "linecolor": "white",
            "ticks": ""
           },
           "bgcolor": "#E5ECF6",
           "caxis": {
            "gridcolor": "white",
            "linecolor": "white",
            "ticks": ""
           }
          },
          "title": {
           "x": 0.05
          },
          "xaxis": {
           "automargin": true,
           "gridcolor": "white",
           "linecolor": "white",
           "ticks": "",
           "title": {
            "standoff": 15
           },
           "zerolinecolor": "white",
           "zerolinewidth": 2
          },
          "yaxis": {
           "automargin": true,
           "gridcolor": "white",
           "linecolor": "white",
           "ticks": "",
           "title": {
            "standoff": 15
           },
           "zerolinecolor": "white",
           "zerolinewidth": 2
          }
         }
        },
        "title": {
         "text": "Cross-Platform App Frameworks - genutzt und gewünscht - Umfrage Stack Overflow"
        },
        "xaxis": {
         "anchor": "y",
         "domain": [
          0,
          1
         ],
         "title": {
          "text": "Jahr"
         }
        },
        "yaxis": {
         "anchor": "x",
         "domain": [
          0,
          1
         ],
         "title": {
          "text": "genutzt / gewünscht in %"
         }
        }
       }
      }
     },
     "metadata": {}
    }
   ],
   "source": [
    "fig = px.line(df, x = 'Jahr', y = df.columns, title='Cross-Platform App Frameworks - genutzt und gewünscht - Umfrage Stack Overflow',\n",
    "    labels={\"variable\": \"\", \"value\": \"genutzt / gewünscht in %\", \"Jahr\": \"Jahr\"})\n",
    "\n",
    "\n",
    "#fig.write_image(\"./frameworks_plot.pdf\")\n",
    "\n",
    "fig.show()\n"
   ]
  }
 ]
}